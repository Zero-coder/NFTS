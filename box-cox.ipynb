#套壳
import pandas
import matplotlib.pyplot as plt
import numpy as np
from scipy import stats
import torch

import seaborn as sns
from scipy import stats
import matplotlib.pyplot as plt

input = torch.randn(8,96,7)
input_2 = input.reshape(-1)
# input = torch.randn(96)
input_2 = torch.abs(input_2)

converted_data1 = stats.boxcox(input_2)[0] # box-cox transformation.
result_recon = converted_data1.reshape(8,96,7)
sample = result_recon[0,:,1]
print(result_recon.shape)
sns.distplot(input)
plt.show()
sns.distplot(converted_data1)
plt.show()
sns.distplot(input[0,:,1])
plt.show()
sns.distplot(sample)
plt.show()
